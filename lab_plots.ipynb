{
 "cells": [
  {
   "cell_type": "markdown",
   "metadata": {},
   "source": [
    "# Welcome to the University of Illinois administrative office!\n",
    "\n",
    "We are so thankful that you agreed to take a look at our salary data. We have a dataset for you that we need you to perform some analysis on and create some plots that we can show the state to get funding for another year. Further details follow below.\n",
    "\n",
    "Thanks again!\n",
    " \n",
    "\\- Chancellor Kelly\n",
    "\n",
    "## Lab: Plots\n",
    "\n",
    "In this lab, you will:\n",
    "\n",
    "- Work with real UIUC salary data to explore some of the statistics that we talked about in class: mean, median, mode, standard deviation, and quartiles!\n",
    "- Practice creating plots to visualize quantitative data: boxplots, scatter plots, and histograms"
   ]
  },
  {
   "cell_type": "markdown",
   "metadata": {},
   "source": [
    "# 0. Import the Data\n",
    "\n",
    "In the same directory as this notebook find the dataset that is provided.  You know what to do to import the libraries and read the data! :)"
   ]
  },
  {
   "cell_type": "code",
   "execution_count": 3,
   "metadata": {
    "deletable": false,
    "nbgrader": {
     "cell_type": "code",
     "checksum": "40a9b55a4721908243d995f8d7f2fbb7",
     "grade": false,
     "grade_id": "cell-27971beecac131cc",
     "locked": false,
     "schema_version": 3,
     "solution": true,
     "task": false
    }
   },
   "outputs": [
    {
     "data": {
      "text/html": [
       "<div>\n",
       "<style scoped>\n",
       "    .dataframe tbody tr th:only-of-type {\n",
       "        vertical-align: middle;\n",
       "    }\n",
       "\n",
       "    .dataframe tbody tr th {\n",
       "        vertical-align: top;\n",
       "    }\n",
       "\n",
       "    .dataframe thead th {\n",
       "        text-align: right;\n",
       "    }\n",
       "</style>\n",
       "<table border=\"1\" class=\"dataframe\">\n",
       "  <thead>\n",
       "    <tr style=\"text-align: right;\">\n",
       "      <th></th>\n",
       "      <th>Employee Name</th>\n",
       "      <th>Academic Title</th>\n",
       "      <th>Primary Job Title</th>\n",
       "      <th>Primary College</th>\n",
       "      <th>Primary Department</th>\n",
       "      <th>Salary</th>\n",
       "      <th>PrevFTE</th>\n",
       "      <th>FTE</th>\n",
       "      <th>All Titles</th>\n",
       "      <th>Empl Class</th>\n",
       "      <th>PrevSalary</th>\n",
       "    </tr>\n",
       "  </thead>\n",
       "  <tbody>\n",
       "    <tr>\n",
       "      <td>0</td>\n",
       "      <td>Edakara, Manu I</td>\n",
       "      <td>NaN</td>\n",
       "      <td>ASSOC DIR ENTREPRNRL CMTY</td>\n",
       "      <td>Business</td>\n",
       "      <td>Academy Entrepreneurial Ldrshp</td>\n",
       "      <td>66300.00</td>\n",
       "      <td>1.0</td>\n",
       "      <td>1.0</td>\n",
       "      <td>['ASSOC DIR ENTREPRNRL CMTY']</td>\n",
       "      <td>['BA']</td>\n",
       "      <td>65000.00</td>\n",
       "    </tr>\n",
       "    <tr>\n",
       "      <td>1</td>\n",
       "      <td>Quarton, John Edward</td>\n",
       "      <td>NaN</td>\n",
       "      <td>SR DIR INNOVA ENTRPRNRL PRGM</td>\n",
       "      <td>Business</td>\n",
       "      <td>Academy Entrepreneurial Ldrshp</td>\n",
       "      <td>150480.70</td>\n",
       "      <td>1.0</td>\n",
       "      <td>1.0</td>\n",
       "      <td>['SR DIR INNOVA ENTRPRNRL PRGM' 'DIR HOEFT T&amp;M...</td>\n",
       "      <td>['BA']</td>\n",
       "      <td>147530.00</td>\n",
       "    </tr>\n",
       "    <tr>\n",
       "      <td>2</td>\n",
       "      <td>Werpetinski, Valeri A</td>\n",
       "      <td>NaN</td>\n",
       "      <td>VST ASSOC DIR, ENTRPRNRL EDUC</td>\n",
       "      <td>Business</td>\n",
       "      <td>Academy Entrepreneurial Ldrshp</td>\n",
       "      <td>71400.00</td>\n",
       "      <td>1.0</td>\n",
       "      <td>1.0</td>\n",
       "      <td>['VST ASSOC DIR, ENTRPRNRL EDUC']</td>\n",
       "      <td>['BA']</td>\n",
       "      <td>70000.00</td>\n",
       "    </tr>\n",
       "    <tr>\n",
       "      <td>3</td>\n",
       "      <td>Abdel-Khalik, Ahmed Rashad</td>\n",
       "      <td>PROF</td>\n",
       "      <td>PROF</td>\n",
       "      <td>Business</td>\n",
       "      <td>Accountancy</td>\n",
       "      <td>318007.00</td>\n",
       "      <td>1.0</td>\n",
       "      <td>1.0</td>\n",
       "      <td>['DIR CIERA' 'PROF' 'V K ZIMMERMAN PROF']</td>\n",
       "      <td>['BC' 'AA']</td>\n",
       "      <td>312556.00</td>\n",
       "    </tr>\n",
       "    <tr>\n",
       "      <td>4</td>\n",
       "      <td>Ahmed, Waqar</td>\n",
       "      <td>LECTURER</td>\n",
       "      <td>LECTURER</td>\n",
       "      <td>Business</td>\n",
       "      <td>Accountancy</td>\n",
       "      <td>96691.00</td>\n",
       "      <td>1.0</td>\n",
       "      <td>1.0</td>\n",
       "      <td>['LECTURER']</td>\n",
       "      <td>['AA']</td>\n",
       "      <td>96691.00</td>\n",
       "    </tr>\n",
       "    <tr>\n",
       "      <td>...</td>\n",
       "      <td>...</td>\n",
       "      <td>...</td>\n",
       "      <td>...</td>\n",
       "      <td>...</td>\n",
       "      <td>...</td>\n",
       "      <td>...</td>\n",
       "      <td>...</td>\n",
       "      <td>...</td>\n",
       "      <td>...</td>\n",
       "      <td>...</td>\n",
       "      <td>...</td>\n",
       "    </tr>\n",
       "    <tr>\n",
       "      <td>3550</td>\n",
       "      <td>Wolfson, Ouri</td>\n",
       "      <td>PROF</td>\n",
       "      <td>???</td>\n",
       "      <td>???</td>\n",
       "      <td>???</td>\n",
       "      <td>200456.78</td>\n",
       "      <td>0.0</td>\n",
       "      <td>0.0</td>\n",
       "      <td>['PROF']</td>\n",
       "      <td>['AA']</td>\n",
       "      <td>200456.78</td>\n",
       "    </tr>\n",
       "    <tr>\n",
       "      <td>3551</td>\n",
       "      <td>Wu, Maryalice S</td>\n",
       "      <td>ADJ ASST PROF</td>\n",
       "      <td>???</td>\n",
       "      <td>???</td>\n",
       "      <td>???</td>\n",
       "      <td>81962.71</td>\n",
       "      <td>0.0</td>\n",
       "      <td>0.0</td>\n",
       "      <td>['ADJ ASST PROF']</td>\n",
       "      <td>['AA']</td>\n",
       "      <td>80355.60</td>\n",
       "    </tr>\n",
       "    <tr>\n",
       "      <td>3552</td>\n",
       "      <td>Yau, Peter M</td>\n",
       "      <td>RES ASST PROF</td>\n",
       "      <td>???</td>\n",
       "      <td>???</td>\n",
       "      <td>???</td>\n",
       "      <td>131447.50</td>\n",
       "      <td>0.0</td>\n",
       "      <td>0.0</td>\n",
       "      <td>['RES ASST PROF']</td>\n",
       "      <td>['AL']</td>\n",
       "      <td>128617.91</td>\n",
       "    </tr>\n",
       "    <tr>\n",
       "      <td>3553</td>\n",
       "      <td>Yodh, Jaya G</td>\n",
       "      <td>RES ASST PROF</td>\n",
       "      <td>???</td>\n",
       "      <td>???</td>\n",
       "      <td>???</td>\n",
       "      <td>112200.00</td>\n",
       "      <td>0.0</td>\n",
       "      <td>0.0</td>\n",
       "      <td>['RES ASST PROF']</td>\n",
       "      <td>['AL']</td>\n",
       "      <td>110000.00</td>\n",
       "    </tr>\n",
       "    <tr>\n",
       "      <td>3554</td>\n",
       "      <td>Zerai, Assata</td>\n",
       "      <td>PROF</td>\n",
       "      <td>???</td>\n",
       "      <td>???</td>\n",
       "      <td>???</td>\n",
       "      <td>187530.00</td>\n",
       "      <td>0.0</td>\n",
       "      <td>0.0</td>\n",
       "      <td>['PROF']</td>\n",
       "      <td>['AA']</td>\n",
       "      <td>184441.29</td>\n",
       "    </tr>\n",
       "  </tbody>\n",
       "</table>\n",
       "<p>3555 rows × 11 columns</p>\n",
       "</div>"
      ],
      "text/plain": [
       "                   Employee Name Academic Title  \\\n",
       "0                Edakara, Manu I            NaN   \n",
       "1           Quarton, John Edward            NaN   \n",
       "2          Werpetinski, Valeri A            NaN   \n",
       "3     Abdel-Khalik, Ahmed Rashad           PROF   \n",
       "4                   Ahmed, Waqar       LECTURER   \n",
       "...                          ...            ...   \n",
       "3550               Wolfson, Ouri           PROF   \n",
       "3551             Wu, Maryalice S  ADJ ASST PROF   \n",
       "3552                Yau, Peter M  RES ASST PROF   \n",
       "3553                Yodh, Jaya G  RES ASST PROF   \n",
       "3554               Zerai, Assata           PROF   \n",
       "\n",
       "                  Primary Job Title Primary College  \\\n",
       "0         ASSOC DIR ENTREPRNRL CMTY        Business   \n",
       "1      SR DIR INNOVA ENTRPRNRL PRGM        Business   \n",
       "2     VST ASSOC DIR, ENTRPRNRL EDUC        Business   \n",
       "3                              PROF        Business   \n",
       "4                          LECTURER        Business   \n",
       "...                             ...             ...   \n",
       "3550                            ???             ???   \n",
       "3551                            ???             ???   \n",
       "3552                            ???             ???   \n",
       "3553                            ???             ???   \n",
       "3554                            ???             ???   \n",
       "\n",
       "                  Primary Department     Salary  PrevFTE  FTE  \\\n",
       "0     Academy Entrepreneurial Ldrshp   66300.00      1.0  1.0   \n",
       "1     Academy Entrepreneurial Ldrshp  150480.70      1.0  1.0   \n",
       "2     Academy Entrepreneurial Ldrshp   71400.00      1.0  1.0   \n",
       "3                        Accountancy  318007.00      1.0  1.0   \n",
       "4                        Accountancy   96691.00      1.0  1.0   \n",
       "...                              ...        ...      ...  ...   \n",
       "3550                             ???  200456.78      0.0  0.0   \n",
       "3551                             ???   81962.71      0.0  0.0   \n",
       "3552                             ???  131447.50      0.0  0.0   \n",
       "3553                             ???  112200.00      0.0  0.0   \n",
       "3554                             ???  187530.00      0.0  0.0   \n",
       "\n",
       "                                             All Titles   Empl Class  \\\n",
       "0                         ['ASSOC DIR ENTREPRNRL CMTY']       ['BA']   \n",
       "1     ['SR DIR INNOVA ENTRPRNRL PRGM' 'DIR HOEFT T&M...       ['BA']   \n",
       "2                     ['VST ASSOC DIR, ENTRPRNRL EDUC']       ['BA']   \n",
       "3             ['DIR CIERA' 'PROF' 'V K ZIMMERMAN PROF']  ['BC' 'AA']   \n",
       "4                                          ['LECTURER']       ['AA']   \n",
       "...                                                 ...          ...   \n",
       "3550                                           ['PROF']       ['AA']   \n",
       "3551                                  ['ADJ ASST PROF']       ['AA']   \n",
       "3552                                  ['RES ASST PROF']       ['AL']   \n",
       "3553                                  ['RES ASST PROF']       ['AL']   \n",
       "3554                                           ['PROF']       ['AA']   \n",
       "\n",
       "      PrevSalary  \n",
       "0       65000.00  \n",
       "1      147530.00  \n",
       "2       70000.00  \n",
       "3      312556.00  \n",
       "4       96691.00  \n",
       "...          ...  \n",
       "3550   200456.78  \n",
       "3551    80355.60  \n",
       "3552   128617.91  \n",
       "3553   110000.00  \n",
       "3554   184441.29  \n",
       "\n",
       "[3555 rows x 11 columns]"
      ]
     },
     "execution_count": 3,
     "metadata": {},
     "output_type": "execute_result"
    }
   ],
   "source": [
    "import pandas as pd\n",
    "df= pd.read_csv('graybook.csv')\n",
    "df"
   ]
  },
  {
   "cell_type": "markdown",
   "metadata": {},
   "source": [
    "# 1. The Basics\n",
    "\n",
    "\n",
    "## Exploring measures of center: Mean, Median, and Standard Deviation\n",
    "\n",
    "The first thing we need from you is to get us some basics statistics at both a university and department level. We need to know:\n",
    "1. the number of employees at UIUC\n",
    "2. the mean salary\n",
    "3. the median salary\n",
    "4. the standard deviation"
   ]
  },
  {
   "cell_type": "code",
   "execution_count": 4,
   "metadata": {
    "deletable": false,
    "nbgrader": {
     "cell_type": "code",
     "checksum": "b1bea43f79c33b854e1f15dfe00b180b",
     "grade": false,
     "grade_id": "cell-419796a0b415e588",
     "locked": false,
     "schema_version": 3,
     "solution": true,
     "task": false
    }
   },
   "outputs": [
    {
     "data": {
      "text/plain": [
       "3555"
      ]
     },
     "execution_count": 4,
     "metadata": {},
     "output_type": "execute_result"
    }
   ],
   "source": [
    "university_num_emp = len(df['Employee Name'])\n",
    "university_num_emp\n",
    "\n"
   ]
  },
  {
   "cell_type": "code",
   "execution_count": 5,
   "metadata": {
    "deletable": false,
    "nbgrader": {
     "cell_type": "code",
     "checksum": "f86aac497feb3ecd4289626231b44964",
     "grade": false,
     "grade_id": "cell-4dbbeef1022a20e4",
     "locked": false,
     "schema_version": 3,
     "solution": true,
     "task": false
    }
   },
   "outputs": [
    {
     "data": {
      "text/plain": [
       "101284.91668642394"
      ]
     },
     "execution_count": 5,
     "metadata": {},
     "output_type": "execute_result"
    }
   ],
   "source": [
    "university_mean_sal = df['Salary'].mean()\n",
    "university_mean_sal\n",
    "\n"
   ]
  },
  {
   "cell_type": "code",
   "execution_count": 6,
   "metadata": {
    "deletable": false,
    "nbgrader": {
     "cell_type": "code",
     "checksum": "e8f355f508ffadd1f9b645c9686c73ea",
     "grade": false,
     "grade_id": "cell-727195c3fef2cf78",
     "locked": false,
     "schema_version": 3,
     "solution": true,
     "task": false
    }
   },
   "outputs": [
    {
     "data": {
      "text/plain": [
       "86995.0"
      ]
     },
     "execution_count": 6,
     "metadata": {},
     "output_type": "execute_result"
    }
   ],
   "source": [
    "university_median_sal = df['Salary'].median()\n",
    "university_median_sal\n",
    "\n"
   ]
  },
  {
   "cell_type": "code",
   "execution_count": 7,
   "metadata": {
    "deletable": false,
    "nbgrader": {
     "cell_type": "code",
     "checksum": "3da9719c35e35c72a09a1068d100b0f1",
     "grade": false,
     "grade_id": "cell-35e651d14a628e50",
     "locked": false,
     "schema_version": 3,
     "solution": true,
     "task": false
    }
   },
   "outputs": [
    {
     "data": {
      "text/plain": [
       "55129.29496464772"
      ]
     },
     "execution_count": 7,
     "metadata": {},
     "output_type": "execute_result"
    }
   ],
   "source": [
    "university_std_sal = df['Salary'].std()\n",
    "university_std_sal\n",
    "\n"
   ]
  },
  {
   "cell_type": "code",
   "execution_count": 8,
   "metadata": {
    "deletable": false,
    "editable": false,
    "nbgrader": {
     "cell_type": "code",
     "checksum": "3caadaaf563987b396fd5cab9e81a455",
     "grade": true,
     "grade_id": "cell-04e624817d681f8e",
     "locked": true,
     "points": 1,
     "schema_version": 3,
     "solution": false,
     "task": false
    }
   },
   "outputs": [],
   "source": [
    "## == TEST CASES for Puzzle 1.1 ==\n",
    "# - This read-only cell contains test cases for your previous cell.\n",
    "# - If this cell runs without any error our output, you PASSED all test cases!\n",
    "# - If this cell results in any errors, check you previous cell, make changes, and RE-RUN your code and then this cell.\n",
    "x = university_num_emp + university_mean_sal + university_median_sal + university_std_sal\n",
    "y = ((university_mean_sal - university_median_sal) * university_std_sal) / university_num_emp\n",
    "\n",
    "assert( abs(x - 246964.21165107167) < 1 ), \"It looks like your calculations are off?\"\n",
    "assert( abs(y - 221601.415478511) < 1 ), \"It looks like your calculations are off?\""
   ]
  },
  {
   "cell_type": "markdown",
   "metadata": {},
   "source": [
    "## Department-level Data\n",
    "\n",
    "Now we need the same data at a department level. In other words, you want each of those statistics for each department.  There was a certain function you learned a bit ago that will help you **group** all of the people in each department so you can find departmental aggregates.\n",
    "\n",
    "Instead of just grouping by a single aggregate, use **Python list syntax** to aggregate to find the `count`, `mean`, and `median`.  After that, select only the `'Primary Department'` and `'Salary'` data.\n",
    "\n",
    "*(You can view technical docs here:\n",
    "https://pandas.pydata.org/pandas-docs/stable/reference/groupby.html)*"
   ]
  },
  {
   "cell_type": "code",
   "execution_count": 16,
   "metadata": {
    "deletable": false,
    "nbgrader": {
     "cell_type": "code",
     "checksum": "912abaecdf749394d0921e160cd15746",
     "grade": false,
     "grade_id": "cell-72189b308296916b",
     "locked": false,
     "schema_version": 3,
     "solution": true,
     "task": false
    }
   },
   "outputs": [
    {
     "data": {
      "text/html": [
       "<div>\n",
       "<style scoped>\n",
       "    .dataframe tbody tr th:only-of-type {\n",
       "        vertical-align: middle;\n",
       "    }\n",
       "\n",
       "    .dataframe tbody tr th {\n",
       "        vertical-align: top;\n",
       "    }\n",
       "\n",
       "    .dataframe thead tr th {\n",
       "        text-align: left;\n",
       "    }\n",
       "</style>\n",
       "<table border=\"1\" class=\"dataframe\">\n",
       "  <thead>\n",
       "    <tr>\n",
       "      <th></th>\n",
       "      <th>Primary Department</th>\n",
       "      <th colspan=\"3\" halign=\"left\">Salary</th>\n",
       "    </tr>\n",
       "    <tr>\n",
       "      <th></th>\n",
       "      <th></th>\n",
       "      <th>count</th>\n",
       "      <th>mean</th>\n",
       "      <th>median</th>\n",
       "    </tr>\n",
       "  </thead>\n",
       "  <tbody>\n",
       "    <tr>\n",
       "      <td>0</td>\n",
       "      <td>???</td>\n",
       "      <td>118</td>\n",
       "      <td>154959.069576</td>\n",
       "      <td>120825.305</td>\n",
       "    </tr>\n",
       "    <tr>\n",
       "      <td>1</td>\n",
       "      <td>ADM Institure for PHL</td>\n",
       "      <td>2</td>\n",
       "      <td>58051.500000</td>\n",
       "      <td>58051.500</td>\n",
       "    </tr>\n",
       "    <tr>\n",
       "      <td>2</td>\n",
       "      <td>Academy Entrepreneurial Ldrshp</td>\n",
       "      <td>3</td>\n",
       "      <td>96060.233333</td>\n",
       "      <td>71400.000</td>\n",
       "    </tr>\n",
       "    <tr>\n",
       "      <td>3</td>\n",
       "      <td>Accountancy</td>\n",
       "      <td>67</td>\n",
       "      <td>188585.546119</td>\n",
       "      <td>210161.000</td>\n",
       "    </tr>\n",
       "    <tr>\n",
       "      <td>4</td>\n",
       "      <td>Aces Info Tech &amp; Cmc Svcs</td>\n",
       "      <td>23</td>\n",
       "      <td>71087.565652</td>\n",
       "      <td>70582.130</td>\n",
       "    </tr>\n",
       "    <tr>\n",
       "      <td>...</td>\n",
       "      <td>...</td>\n",
       "      <td>...</td>\n",
       "      <td>...</td>\n",
       "      <td>...</td>\n",
       "    </tr>\n",
       "    <tr>\n",
       "      <td>135</td>\n",
       "      <td>Technology Entrepreneur Ctr</td>\n",
       "      <td>7</td>\n",
       "      <td>77353.428571</td>\n",
       "      <td>61200.000</td>\n",
       "    </tr>\n",
       "    <tr>\n",
       "      <td>136</td>\n",
       "      <td>Theatre</td>\n",
       "      <td>18</td>\n",
       "      <td>76580.444444</td>\n",
       "      <td>76343.500</td>\n",
       "    </tr>\n",
       "    <tr>\n",
       "      <td>137</td>\n",
       "      <td>Urban &amp; Regional Planning</td>\n",
       "      <td>15</td>\n",
       "      <td>92951.400000</td>\n",
       "      <td>88752.000</td>\n",
       "    </tr>\n",
       "    <tr>\n",
       "      <td>138</td>\n",
       "      <td>Veterinary Prog in Agr</td>\n",
       "      <td>4</td>\n",
       "      <td>148582.230000</td>\n",
       "      <td>149417.760</td>\n",
       "    </tr>\n",
       "    <tr>\n",
       "      <td>139</td>\n",
       "      <td>eLearning</td>\n",
       "      <td>14</td>\n",
       "      <td>69615.987143</td>\n",
       "      <td>62934.000</td>\n",
       "    </tr>\n",
       "  </tbody>\n",
       "</table>\n",
       "<p>140 rows × 4 columns</p>\n",
       "</div>"
      ],
      "text/plain": [
       "                 Primary Department Salary                           \n",
       "                                     count           mean      median\n",
       "0                               ???    118  154959.069576  120825.305\n",
       "1             ADM Institure for PHL      2   58051.500000   58051.500\n",
       "2    Academy Entrepreneurial Ldrshp      3   96060.233333   71400.000\n",
       "3                       Accountancy     67  188585.546119  210161.000\n",
       "4         Aces Info Tech & Cmc Svcs     23   71087.565652   70582.130\n",
       "..                              ...    ...            ...         ...\n",
       "135     Technology Entrepreneur Ctr      7   77353.428571   61200.000\n",
       "136                         Theatre     18   76580.444444   76343.500\n",
       "137       Urban & Regional Planning     15   92951.400000   88752.000\n",
       "138          Veterinary Prog in Agr      4  148582.230000  149417.760\n",
       "139                       eLearning     14   69615.987143   62934.000\n",
       "\n",
       "[140 rows x 4 columns]"
      ]
     },
     "execution_count": 16,
     "metadata": {},
     "output_type": "execute_result"
    }
   ],
   "source": [
    "group = df.groupby('Primary Department')\n",
    "agg_df = group.agg(['count','mean','median']).reset_index()\n",
    "\n",
    "agg_df= agg_df[['Primary Department','Salary']]# first bracket is to access a df, next bracket is to make it a list\n",
    "\n",
    "# Display 5 random rows to make sure it works:\n",
    "agg_df.sample(5)\n",
    "agg_df['Salary']['mean']\n",
    "agg_df['Primary Department']\n",
    "agg_df"
   ]
  },
  {
   "cell_type": "code",
   "execution_count": 13,
   "metadata": {
    "deletable": false,
    "editable": false,
    "nbgrader": {
     "cell_type": "code",
     "checksum": "190099de6e6a999a03560a8134cc3c80",
     "grade": true,
     "grade_id": "cell-d4a69c902629304a",
     "locked": true,
     "points": 1,
     "schema_version": 3,
     "solution": false,
     "task": false
    }
   },
   "outputs": [],
   "source": [
    "## == TEST CASES for Puzzle 1.2 ==\n",
    "# - This read-only cell contains test cases for your previous cell.\n",
    "# - If this cell runs without any error our output, you PASSED all test cases!\n",
    "# - If this cell results in any errors, check you previous cell, make changes, and RE-RUN your code and then this cell.\n",
    "assert( len(agg_df) == 140 ), \"You should have 140 different departments.  Check to make sure you grouped the data?\"\n",
    "assert( \"Salary\" in agg_df ), \"You must have a salary output\"\n",
    "assert( \"mean\" in agg_df[\"Salary\"] ), \"Make sure you have a mean in your salary\"\n",
    "assert( \"count\" in agg_df[\"Salary\"] ), \"Make sure you have a count in your salary\"\n",
    "assert( \"median\" in agg_df[\"Salary\"] ), \"Make sure you have a median in your salary\"\n",
    "assert( len(agg_df.columns) == 4 ), \"Make sure you have ONLY the salary data and the department\""
   ]
  },
  {
   "cell_type": "markdown",
   "metadata": {},
   "source": [
    "Your boss is thrilled with the numbers you've come up with! Now she's ready to go to the state to ask for money. To know how much to ask for, she wants you to **add a column** to the department-grouped DataFrame that is equal to the **median** salary of that department multiplied by the number of people in that department. She wants you to provide her with this table and the sum of all of the values in this column.\n",
    "\n",
    "Hop to it!"
   ]
  },
  {
   "cell_type": "code",
   "execution_count": 17,
   "metadata": {
    "deletable": false,
    "nbgrader": {
     "cell_type": "code",
     "checksum": "d62cfd7d8d186a50862c7e7e90334cd9",
     "grade": false,
     "grade_id": "cell-4532891e3738e59e",
     "locked": false,
     "schema_version": 3,
     "solution": true,
     "task": false
    }
   },
   "outputs": [
    {
     "data": {
      "text/html": [
       "<div>\n",
       "<style scoped>\n",
       "    .dataframe tbody tr th:only-of-type {\n",
       "        vertical-align: middle;\n",
       "    }\n",
       "\n",
       "    .dataframe tbody tr th {\n",
       "        vertical-align: top;\n",
       "    }\n",
       "\n",
       "    .dataframe thead tr th {\n",
       "        text-align: left;\n",
       "    }\n",
       "</style>\n",
       "<table border=\"1\" class=\"dataframe\">\n",
       "  <thead>\n",
       "    <tr>\n",
       "      <th></th>\n",
       "      <th>Primary Department</th>\n",
       "      <th colspan=\"3\" halign=\"left\">Salary</th>\n",
       "      <th>MedianMulCount</th>\n",
       "    </tr>\n",
       "    <tr>\n",
       "      <th></th>\n",
       "      <th></th>\n",
       "      <th>count</th>\n",
       "      <th>mean</th>\n",
       "      <th>median</th>\n",
       "      <th></th>\n",
       "    </tr>\n",
       "  </thead>\n",
       "  <tbody>\n",
       "    <tr>\n",
       "      <td>102</td>\n",
       "      <td>Materials Science &amp; Engineerng</td>\n",
       "      <td>30</td>\n",
       "      <td>122333.845000</td>\n",
       "      <td>104349.50</td>\n",
       "      <td>3130485.00</td>\n",
       "    </tr>\n",
       "    <tr>\n",
       "      <td>109</td>\n",
       "      <td>Music</td>\n",
       "      <td>82</td>\n",
       "      <td>84278.434024</td>\n",
       "      <td>84585.00</td>\n",
       "      <td>6935970.00</td>\n",
       "    </tr>\n",
       "    <tr>\n",
       "      <td>20</td>\n",
       "      <td>Architecture</td>\n",
       "      <td>32</td>\n",
       "      <td>92319.156250</td>\n",
       "      <td>92943.00</td>\n",
       "      <td>2974176.00</td>\n",
       "    </tr>\n",
       "    <tr>\n",
       "      <td>81</td>\n",
       "      <td>History</td>\n",
       "      <td>37</td>\n",
       "      <td>108451.355946</td>\n",
       "      <td>106017.46</td>\n",
       "      <td>3922646.02</td>\n",
       "    </tr>\n",
       "    <tr>\n",
       "      <td>12</td>\n",
       "      <td>Agricultural Education Program</td>\n",
       "      <td>6</td>\n",
       "      <td>72990.810000</td>\n",
       "      <td>73414.79</td>\n",
       "      <td>440488.74</td>\n",
       "    </tr>\n",
       "  </tbody>\n",
       "</table>\n",
       "</div>"
      ],
      "text/plain": [
       "                 Primary Department Salary                            \\\n",
       "                                     count           mean     median   \n",
       "102  Materials Science & Engineerng     30  122333.845000  104349.50   \n",
       "109                           Music     82   84278.434024   84585.00   \n",
       "20                     Architecture     32   92319.156250   92943.00   \n",
       "81                          History     37  108451.355946  106017.46   \n",
       "12   Agricultural Education Program      6   72990.810000   73414.79   \n",
       "\n",
       "    MedianMulCount  \n",
       "                    \n",
       "102     3130485.00  \n",
       "109     6935970.00  \n",
       "20      2974176.00  \n",
       "81      3922646.02  \n",
       "12       440488.74  "
      ]
     },
     "execution_count": 17,
     "metadata": {},
     "output_type": "execute_result"
    }
   ],
   "source": [
    "agg_df['MedianMulCount'] = (agg_df['Salary']['count'])*(agg_df['Salary']['median'])\n",
    "\n",
    "# Display 5 random rows to make sure it works:\n",
    "agg_df.sample(5)"
   ]
  },
  {
   "cell_type": "code",
   "execution_count": 18,
   "metadata": {
    "deletable": false,
    "nbgrader": {
     "cell_type": "code",
     "checksum": "029bc8be5193fd0c3feeb8b197ba758f",
     "grade": false,
     "grade_id": "cell-6da6f358c0acaf48",
     "locked": false,
     "schema_version": 3,
     "solution": true,
     "task": false
    }
   },
   "outputs": [
    {
     "data": {
      "text/plain": [
       "332199238.08000004"
      ]
     },
     "execution_count": 18,
     "metadata": {},
     "output_type": "execute_result"
    }
   ],
   "source": [
    "# calculate the total sum of all of the values in the column you added\n",
    "total_money_needed = agg_df['MedianMulCount'].sum()\n",
    "\n",
    "total_money_needed"
   ]
  },
  {
   "cell_type": "code",
   "execution_count": 19,
   "metadata": {
    "deletable": false,
    "editable": false,
    "nbgrader": {
     "cell_type": "code",
     "checksum": "ed997a703c8b10b50172aa60c1b22f67",
     "grade": true,
     "grade_id": "cell-f199dd0452902f41",
     "locked": true,
     "points": 1,
     "schema_version": 3,
     "solution": false,
     "task": false
    }
   },
   "outputs": [],
   "source": [
    "## == TEST CASES for Puzzle 1.3 ==\n",
    "# - This read-only cell contains test cases for your previous cell.\n",
    "# - If this cell runs without any error our output, you PASSED all test cases!\n",
    "# - If this cell results in any errors, check you previous cell, make changes, and RE-RUN your code and then this cell.\n",
    "\n",
    "assert( abs(total_money_needed - 332199238) < 1 ), \"Looks like your multiplication did not work properly!\""
   ]
  },
  {
   "cell_type": "markdown",
   "metadata": {},
   "source": [
    "# 2. Estimations\n",
    "\n",
    "Great! Your boss is ready to go to the state with this number. Is this a good estimate of the amount of money she will need?\n",
    "\n",
    "Let's calculate the standard deviation for each department to find out.  Remember, SD measures the spread around the average.  The larger the SD, the more spread out the numbers are from the average.\n",
    "\n",
    "Add another column to your dataframe with the departmental data which holds the value of the standard deviation of the salaries for that department.  *(Hint: This may require you to re-group your original `df`)*"
   ]
  },
  {
   "cell_type": "code",
   "execution_count": 36,
   "metadata": {
    "deletable": false,
    "nbgrader": {
     "cell_type": "code",
     "checksum": "fbf16695acaebfe92f608b5121644035",
     "grade": false,
     "grade_id": "cell-dca5763613817466",
     "locked": false,
     "schema_version": 3,
     "solution": true,
     "task": false
    }
   },
   "outputs": [
    {
     "data": {
      "text/html": [
       "<div>\n",
       "<style scoped>\n",
       "    .dataframe tbody tr th:only-of-type {\n",
       "        vertical-align: middle;\n",
       "    }\n",
       "\n",
       "    .dataframe tbody tr th {\n",
       "        vertical-align: top;\n",
       "    }\n",
       "\n",
       "    .dataframe thead tr th {\n",
       "        text-align: left;\n",
       "    }\n",
       "</style>\n",
       "<table border=\"1\" class=\"dataframe\">\n",
       "  <thead>\n",
       "    <tr>\n",
       "      <th></th>\n",
       "      <th>Primary Department</th>\n",
       "      <th colspan=\"3\" halign=\"left\">Salary</th>\n",
       "      <th>MedianMulCount</th>\n",
       "      <th>Estimation</th>\n",
       "      <th>Salary STD</th>\n",
       "    </tr>\n",
       "    <tr>\n",
       "      <th></th>\n",
       "      <th></th>\n",
       "      <th>count</th>\n",
       "      <th>mean</th>\n",
       "      <th>median</th>\n",
       "      <th></th>\n",
       "      <th></th>\n",
       "      <th></th>\n",
       "    </tr>\n",
       "  </thead>\n",
       "  <tbody>\n",
       "    <tr>\n",
       "      <td>106</td>\n",
       "      <td>Micro and Nanotechnology Lab</td>\n",
       "      <td>11</td>\n",
       "      <td>78343.272727</td>\n",
       "      <td>84146.00</td>\n",
       "      <td>925606.00</td>\n",
       "      <td>33026.123287</td>\n",
       "      <td>27562.378044</td>\n",
       "    </tr>\n",
       "    <tr>\n",
       "      <td>77</td>\n",
       "      <td>Gies College of Business</td>\n",
       "      <td>16</td>\n",
       "      <td>126040.387500</td>\n",
       "      <td>78500.00</td>\n",
       "      <td>1256000.00</td>\n",
       "      <td>33026.123287</td>\n",
       "      <td>110414.835800</td>\n",
       "    </tr>\n",
       "    <tr>\n",
       "      <td>47</td>\n",
       "      <td>Crop Sciences</td>\n",
       "      <td>47</td>\n",
       "      <td>100323.343191</td>\n",
       "      <td>93167.66</td>\n",
       "      <td>4378880.02</td>\n",
       "      <td>33026.123287</td>\n",
       "      <td>41160.692004</td>\n",
       "    </tr>\n",
       "    <tr>\n",
       "      <td>43</td>\n",
       "      <td>Computer Science</td>\n",
       "      <td>105</td>\n",
       "      <td>126891.428571</td>\n",
       "      <td>114277.00</td>\n",
       "      <td>11999085.00</td>\n",
       "      <td>33026.123287</td>\n",
       "      <td>51326.768201</td>\n",
       "    </tr>\n",
       "    <tr>\n",
       "      <td>78</td>\n",
       "      <td>Gies Mktg &amp; Communications</td>\n",
       "      <td>7</td>\n",
       "      <td>67628.874286</td>\n",
       "      <td>65380.00</td>\n",
       "      <td>457660.00</td>\n",
       "      <td>33026.123287</td>\n",
       "      <td>14331.220437</td>\n",
       "    </tr>\n",
       "  </tbody>\n",
       "</table>\n",
       "</div>"
      ],
      "text/plain": [
       "               Primary Department Salary                            \\\n",
       "                                   count           mean     median   \n",
       "106  Micro and Nanotechnology Lab     11   78343.272727   84146.00   \n",
       "77       Gies College of Business     16  126040.387500   78500.00   \n",
       "47                  Crop Sciences     47  100323.343191   93167.66   \n",
       "43               Computer Science    105  126891.428571  114277.00   \n",
       "78     Gies Mktg & Communications      7   67628.874286   65380.00   \n",
       "\n",
       "    MedianMulCount    Estimation     Salary STD  \n",
       "                                                 \n",
       "106      925606.00  33026.123287   27562.378044  \n",
       "77      1256000.00  33026.123287  110414.835800  \n",
       "47      4378880.02  33026.123287   41160.692004  \n",
       "43     11999085.00  33026.123287   51326.768201  \n",
       "78       457660.00  33026.123287   14331.220437  "
      ]
     },
     "execution_count": 36,
     "metadata": {},
     "output_type": "execute_result"
    }
   ],
   "source": [
    "# add that column here!\n",
    "std_df= df.groupby('Primary Department')\n",
    "std_salary= std_df.agg(\"std\").reset_index()\n",
    "std_salary\n",
    "\n",
    "agg_df['Salary STD'] = std_salary['Salary']\n",
    "#std_dept_sal= std_df.groupby(['Primary Department','Salary'])\n",
    "\n",
    "\n",
    "\n",
    "# Display 5 random rows to make sure it works:\n",
    "agg_df.sample(5)"
   ]
  },
  {
   "cell_type": "markdown",
   "metadata": {},
   "source": [
    "Are there any departments for which your boss' way of approximating the total salary would be fairly accurate? Are there deparments where it would not be an okay approximation?  *Hint*: It might be helpful to find the largest standard deviation!"
   ]
  },
  {
   "cell_type": "code",
   "execution_count": 38,
   "metadata": {
    "deletable": false,
    "nbgrader": {
     "cell_type": "code",
     "checksum": "2fdb936f99485f2c4244bfd1a6eb4b08",
     "grade": false,
     "grade_id": "cell-8d360389fd08fc8f",
     "locked": false,
     "schema_version": 3,
     "solution": true,
     "task": false
    }
   },
   "outputs": [
    {
     "data": {
      "text/html": [
       "<div>\n",
       "<style scoped>\n",
       "    .dataframe tbody tr th:only-of-type {\n",
       "        vertical-align: middle;\n",
       "    }\n",
       "\n",
       "    .dataframe tbody tr th {\n",
       "        vertical-align: top;\n",
       "    }\n",
       "\n",
       "    .dataframe thead tr th {\n",
       "        text-align: left;\n",
       "    }\n",
       "</style>\n",
       "<table border=\"1\" class=\"dataframe\">\n",
       "  <thead>\n",
       "    <tr>\n",
       "      <th></th>\n",
       "      <th>Primary Department</th>\n",
       "      <th colspan=\"3\" halign=\"left\">Salary</th>\n",
       "      <th>MedianMulCount</th>\n",
       "      <th>Estimation</th>\n",
       "      <th>Salary STD</th>\n",
       "    </tr>\n",
       "    <tr>\n",
       "      <th></th>\n",
       "      <th></th>\n",
       "      <th>count</th>\n",
       "      <th>mean</th>\n",
       "      <th>median</th>\n",
       "      <th></th>\n",
       "      <th></th>\n",
       "      <th></th>\n",
       "    </tr>\n",
       "  </thead>\n",
       "  <tbody>\n",
       "    <tr>\n",
       "      <td>0</td>\n",
       "      <td>???</td>\n",
       "      <td>118</td>\n",
       "      <td>154959.069576</td>\n",
       "      <td>120825.305</td>\n",
       "      <td>14257385.99</td>\n",
       "      <td>33026.123287</td>\n",
       "      <td>115523.851215</td>\n",
       "    </tr>\n",
       "  </tbody>\n",
       "</table>\n",
       "</div>"
      ],
      "text/plain": [
       "  Primary Department Salary                            MedianMulCount  \\\n",
       "                      count           mean      median                  \n",
       "0                ???    118  154959.069576  120825.305    14257385.99   \n",
       "\n",
       "     Estimation     Salary STD  \n",
       "                                \n",
       "0  33026.123287  115523.851215  "
      ]
     },
     "execution_count": 38,
     "metadata": {},
     "output_type": "execute_result"
    }
   ],
   "source": [
    "# Not okay to use approximation for this department\n",
    "agg_df.nlargest(1,\"Salary STD\")"
   ]
  },
  {
   "cell_type": "code",
   "execution_count": 39,
   "metadata": {},
   "outputs": [
    {
     "data": {
      "text/html": [
       "<div>\n",
       "<style scoped>\n",
       "    .dataframe tbody tr th:only-of-type {\n",
       "        vertical-align: middle;\n",
       "    }\n",
       "\n",
       "    .dataframe tbody tr th {\n",
       "        vertical-align: top;\n",
       "    }\n",
       "\n",
       "    .dataframe thead tr th {\n",
       "        text-align: left;\n",
       "    }\n",
       "</style>\n",
       "<table border=\"1\" class=\"dataframe\">\n",
       "  <thead>\n",
       "    <tr>\n",
       "      <th></th>\n",
       "      <th>Primary Department</th>\n",
       "      <th colspan=\"3\" halign=\"left\">Salary</th>\n",
       "      <th>MedianMulCount</th>\n",
       "      <th>Estimation</th>\n",
       "      <th>Salary STD</th>\n",
       "    </tr>\n",
       "    <tr>\n",
       "      <th></th>\n",
       "      <th></th>\n",
       "      <th>count</th>\n",
       "      <th>mean</th>\n",
       "      <th>median</th>\n",
       "      <th></th>\n",
       "      <th></th>\n",
       "      <th></th>\n",
       "    </tr>\n",
       "  </thead>\n",
       "  <tbody>\n",
       "    <tr>\n",
       "      <td>50</td>\n",
       "      <td>Ctr Wounded Veterans Higher Ed</td>\n",
       "      <td>2</td>\n",
       "      <td>61000.0</td>\n",
       "      <td>61000.0</td>\n",
       "      <td>122000.0</td>\n",
       "      <td>33026.123287</td>\n",
       "      <td>1414.213562</td>\n",
       "    </tr>\n",
       "  </tbody>\n",
       "</table>\n",
       "</div>"
      ],
      "text/plain": [
       "                Primary Department Salary                   MedianMulCount  \\\n",
       "                                    count     mean   median                  \n",
       "50  Ctr Wounded Veterans Higher Ed      2  61000.0  61000.0       122000.0   \n",
       "\n",
       "      Estimation   Salary STD  \n",
       "                               \n",
       "50  33026.123287  1414.213562  "
      ]
     },
     "execution_count": 39,
     "metadata": {},
     "output_type": "execute_result"
    }
   ],
   "source": [
    "agg_df.nsmallest(1, \"Salary STD\")"
   ]
  },
  {
   "cell_type": "markdown",
   "metadata": {},
   "source": [
    "## EDIT THIS CELL:\n",
    "\n",
    "- One department where it would be an okay approximation is: Ctr Wounded Veterans Higher Ed\n",
    "\n",
    "- One department where it would not be an okay approximation is: ??? department"
   ]
  },
  {
   "cell_type": "markdown",
   "metadata": {},
   "source": [
    "Well, I believe you that the mean salary isn't always a good approximation, but your boss doesn't. I think she is more of a visual learner. To help prove our point, let's make a histogram of the salaries in the computer science department."
   ]
  },
  {
   "cell_type": "markdown",
   "metadata": {},
   "source": [
    "## 2.1 Histograms\n",
    "Create a histogram of the salaries within the computer science department. Pandas has a nice function that helps you accomplish this: https://pandas.pydata.org/pandas-docs/stable/reference/api/pandas.DataFrame.hist.html\n",
    "\n",
    "Hint: in order to apply this function, you will need a DataFrame `cs_salary_df` with just the data for Computer Science professors.\n",
    "\n",
    "Play around with putting different values as the *bin* parameter to the function. Which value would you select to present the data to your boss?  Remember, there is no right or wrong number of bins.  You want to pick an amount that allows you to see the overall shape of the histogram."
   ]
  },
  {
   "cell_type": "code",
   "execution_count": 42,
   "metadata": {
    "deletable": false,
    "nbgrader": {
     "cell_type": "code",
     "checksum": "7777e465b14968d1f4327a70d6978c20",
     "grade": false,
     "grade_id": "cell-12e1d9777e55620b",
     "locked": false,
     "schema_version": 3,
     "solution": true,
     "task": false
    }
   },
   "outputs": [
    {
     "data": {
      "text/plain": [
       "<matplotlib.axes._subplots.AxesSubplot at 0x11d59aa90>"
      ]
     },
     "execution_count": 42,
     "metadata": {},
     "output_type": "execute_result"
    },
    {
     "data": {
      "image/png": "[encoded data removed]",
      "text/plain": [
       "<Figure size 432x288 with 1 Axes>"
      ]
     },
     "metadata": {
      "needs_background": "light"
     },
     "output_type": "display_data"
    }
   ],
   "source": [
    "cs_salary_df = df[df['Primary Department']=='Computer Science']\n",
    "\n",
    "#cs_salary_df= cs_df['Salary']\n",
    "\n",
    "cs_salary_df.plot.hist(bins=5)\n",
    "# ...and then create your histogram:\n",
    "\n",
    "\n"
   ]
  },
  {
   "cell_type": "code",
   "execution_count": 43,
   "metadata": {
    "deletable": false,
    "editable": false,
    "nbgrader": {
     "cell_type": "code",
     "checksum": "e44d28a3306ef7e1aa269caab4b11e85",
     "grade": true,
     "grade_id": "cell-5ad401ab98278a69",
     "locked": true,
     "points": 1,
     "schema_version": 3,
     "solution": false,
     "task": false
    }
   },
   "outputs": [],
   "source": [
    "## == TEST CASES for Puzzle 2.1 ==\n",
    "# - This read-only cell contains test cases for your previous cell.\n",
    "# - If this cell runs without any error our output, you PASSED all test cases!\n",
    "# - If this cell results in any errors, check you previous cell, make changes, and RE-RUN your code and then this cell.\n",
    "assert(cs_salary_df[\"Salary\"].sum() == 13323600), \"You are not showing the correct data in the histogram\""
   ]
  },
  {
   "cell_type": "markdown",
   "metadata": {},
   "source": [
    "## 2.2 Boxplots\n",
    "\n",
    "Ok, you've convinced her. Your boss no longer thinks that the average is a good approximation for each department. To explain to the state why this isn't the case, she wants you to create a plot that shows the distribution of the salaries for each department that is relatively compact (i.e., not 100 tiny histograms). A collection of box plots would work quite nicely!  This allows us to see different quartiles and if departments have outliers!"
   ]
  },
  {
   "cell_type": "markdown",
   "metadata": {},
   "source": [
    "But first, let's just make one box plot. Again, pandas has a nifty function that can help you do this: https://pandas.pydata.org/pandas-docs/stable/reference/api/pandas.DataFrame.boxplot.html\n",
    "\n",
    "Make a box plot for the computer science department salaries."
   ]
  },
  {
   "cell_type": "code",
   "execution_count": 44,
   "metadata": {
    "deletable": false,
    "nbgrader": {
     "cell_type": "code",
     "checksum": "c4c98626c6763183384c4e7db0f983cf",
     "grade": false,
     "grade_id": "cell-bc5e651b041152a9",
     "locked": false,
     "schema_version": 3,
     "solution": true,
     "task": false
    }
   },
   "outputs": [
    {
     "data": {
      "text/plain": [
       "<matplotlib.axes._subplots.AxesSubplot at 0x11d1c6860>"
      ]
     },
     "execution_count": 44,
     "metadata": {},
     "output_type": "execute_result"
    },
    {
     "data": {
      "image/png": "[encoded data removed]",
      "text/plain": [
       "<Figure size 432x288 with 1 Axes>"
      ]
     },
     "metadata": {
      "needs_background": "light"
     },
     "output_type": "display_data"
    }
   ],
   "source": [
    "# Create your box plot of the CS salaries:\n",
    "\n",
    "cs_salary_df.plot.box()\n"
   ]
  },
  {
   "cell_type": "markdown",
   "metadata": {},
   "source": [
    "# 3. Confronting your boss\n",
    "After spending days creating plots, you finally decide to tell your boss that there is an easier way to find out how much money you will need to ask the state for to pay university salaries. Find the exact total amount of money that will be needed to pay everyone in the dataset."
   ]
  },
  {
   "cell_type": "code",
   "execution_count": 50,
   "metadata": {
    "deletable": false,
    "nbgrader": {
     "cell_type": "code",
     "checksum": "6d9b89c66beb9c12847c318f875b00e8",
     "grade": false,
     "grade_id": "cell-674a9d3767b37b18",
     "locked": false,
     "schema_version": 3,
     "solution": true,
     "task": false
    }
   },
   "outputs": [
    {
     "data": {
      "text/plain": [
       "358852459.82"
      ]
     },
     "execution_count": 50,
     "metadata": {},
     "output_type": "execute_result"
    }
   ],
   "source": [
    "# your code goes here!\n",
    "total_money = df['Salary'].sum()\n",
    "\n",
    "total_money"
   ]
  },
  {
   "cell_type": "code",
   "execution_count": 51,
   "metadata": {
    "deletable": false,
    "editable": false,
    "nbgrader": {
     "cell_type": "code",
     "checksum": "6c1d69ba09e4a320b3d10f563b6ccd7f",
     "grade": true,
     "grade_id": "cell-a52dae832d7423fb",
     "locked": true,
     "points": 1,
     "schema_version": 3,
     "solution": false,
     "task": false
    }
   },
   "outputs": [],
   "source": [
    "## == TEST CASES for Puzzle 3 ==\n",
    "# - This read-only cell contains test cases for your previous cell.\n",
    "# - If this cell runs without any error our output, you PASSED all test cases!\n",
    "# - If this cell results in any errors, check you previous cell, make changes, and RE-RUN your code and then this cell.\n",
    "\n",
    "assert(abs(total_money - 358852459) < 1), \"Are you sure the total is correct?\""
   ]
  },
  {
   "cell_type": "markdown",
   "metadata": {},
   "source": [
    "## 4. Your Department\n",
    "\n",
    "You're awesome!  Now find something interesting about your home department... maybe a box plot or a scatter plot, do whatever interests you, it does not have to be complex (but totally can be!)"
   ]
  },
  {
   "cell_type": "code",
   "execution_count": 52,
   "metadata": {
    "deletable": false,
    "nbgrader": {
     "cell_type": "code",
     "checksum": "3d338deb6ac710033314b7b5fdd4425c",
     "grade": true,
     "grade_id": "cell-539333ff16c3dfff",
     "locked": false,
     "points": 1,
     "schema_version": 3,
     "solution": true,
     "task": false
    }
   },
   "outputs": [
    {
     "data": {
      "text/plain": [
       "<matplotlib.axes._subplots.AxesSubplot at 0x11dd71940>"
      ]
     },
     "execution_count": 52,
     "metadata": {},
     "output_type": "execute_result"
    },
    {
     "data": {
      "image/png": "[encoded data removed]",
      "text/plain": [
       "<Figure size 432x288 with 1 Axes>"
      ]
     },
     "metadata": {
      "needs_background": "light"
     },
     "output_type": "display_data"
    }
   ],
   "source": [
    "df_stat= df[df['Primary Department']=='Statistics']\n",
    "\n",
    "df_stat_salary= df_stat['Salary']\n",
    "\n",
    "df_stat_salary.hist()"
   ]
  },
  {
   "cell_type": "markdown",
   "metadata": {},
   "source": [
    "## Submit Your Work"
   ]
  },
  {
   "cell_type": "markdown",
   "metadata": {},
   "source": [
    "You're almost done -- congratulations!\n",
    "\n",
    "You need to do two more things:\n",
    "\n",
    "1. Save your work.  To do this, create a **notebook checkpoint** by using the menu within the notebook to go **File -> Save and Checkpoint**\n",
    "\n",
    "2. After you have saved and checkpointed, exit this notebook and return to the Data Science Discovery page on how to use git to turn this notebook into the course!"
   ]
  }
 ],
 "metadata": {
  "kernelspec": {
   "display_name": "Python 3",
   "language": "python",
   "name": "python3"
  },
  "language_info": {
   "codemirror_mode": {
    "name": "ipython",
    "version": 3
   },
   "file_extension": ".py",
   "mimetype": "text/x-python",
   "name": "python",
   "nbconvert_exporter": "python",
   "pygments_lexer": "ipython3",
   "version": "3.7.3"
  }
 },
 "nbformat": 4,
 "nbformat_minor": 2
}
